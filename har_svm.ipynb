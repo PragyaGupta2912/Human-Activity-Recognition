{
  "cells": [
    {
      "cell_type": "markdown",
      "metadata": {
        "id": "view-in-github",
        "colab_type": "text"
      },
      "source": [
        "<a href=\"https://colab.research.google.com/github/PragyaGupta2912/Human-Activity-Recognition/blob/main/har_svm.ipynb\" target=\"_parent\"><img src=\"https://colab.research.google.com/assets/colab-badge.svg\" alt=\"Open In Colab\"/></a>"
      ]
    },
    {
      "cell_type": "code",
      "execution_count": null,
      "metadata": {
        "colab": {
          "base_uri": "https://localhost:8080/"
        },
        "id": "qH-WyadMlbZ8",
        "outputId": "7ce0e26b-5978-4450-ee2e-5c6268978b25"
      },
      "outputs": [
        {
          "output_type": "stream",
          "name": "stdout",
          "text": [
            "Mounted at /content/gdrive\n"
          ]
        }
      ],
      "source": [
        "from google.colab import drive\n",
        "drive.mount(\"/content/gdrive\")"
      ]
    },
    {
      "cell_type": "code",
      "execution_count": null,
      "metadata": {
        "colab": {
          "base_uri": "https://localhost:8080/"
        },
        "id": "pQLEJJmslfUR",
        "outputId": "0e2bc9c6-9ea2-46fb-8118-3593bfe28aed"
      },
      "outputs": [
        {
          "output_type": "stream",
          "name": "stdout",
          "text": [
            "--2022-02-25 09:48:15--  https://drive.google.com/file/d/1-LvLQa3YkHEreZ_VnFLQtUL5A-JO4dSO/view?usp=sharing\n",
            "Resolving drive.google.com (drive.google.com)... 142.250.136.113, 142.250.136.138, 142.250.136.100, ...\n",
            "Connecting to drive.google.com (drive.google.com)|142.250.136.113|:443... connected.\n",
            "HTTP request sent, awaiting response... 302 Moved Temporarily\n",
            "Location: https://accounts.google.com/ServiceLogin?service=wise&passive=1209600&continue=https://drive.google.com/file/d/1-LvLQa3YkHEreZ_VnFLQtUL5A-JO4dSO/view?usp%3Dsharing&followup=https://drive.google.com/file/d/1-LvLQa3YkHEreZ_VnFLQtUL5A-JO4dSO/view?usp%3Dsharing [following]\n",
            "--2022-02-25 09:48:15--  https://accounts.google.com/ServiceLogin?service=wise&passive=1209600&continue=https://drive.google.com/file/d/1-LvLQa3YkHEreZ_VnFLQtUL5A-JO4dSO/view?usp%3Dsharing&followup=https://drive.google.com/file/d/1-LvLQa3YkHEreZ_VnFLQtUL5A-JO4dSO/view?usp%3Dsharing\n",
            "Resolving accounts.google.com (accounts.google.com)... 209.85.200.84, 2607:f8b0:4001:c2f::54\n",
            "Connecting to accounts.google.com (accounts.google.com)|209.85.200.84|:443... connected.\n",
            "HTTP request sent, awaiting response... 200 OK\n",
            "Length: unspecified [text/html]\n",
            "Saving to: ‘view?usp=sharing’\n",
            "\n",
            "view?usp=sharing        [ <=>                ]  92.25K  --.-KB/s    in 0.001s  \n",
            "\n",
            "2022-02-25 09:48:15 (77.2 MB/s) - ‘view?usp=sharing’ saved [94464]\n",
            "\n"
          ]
        }
      ],
      "source": [
        "!wget \"https://drive.google.com/file/d/1-LvLQa3YkHEreZ_VnFLQtUL5A-JO4dSO/view?usp=sharing\""
      ]
    },
    {
      "cell_type": "code",
      "execution_count": null,
      "metadata": {
        "id": "ZX25o7B5lhQ6"
      },
      "outputs": [],
      "source": [
        "!unzip -q \"/content/gdrive/My Drive/dataset_har/Dataset.zip\""
      ]
    },
    {
      "cell_type": "code",
      "execution_count": null,
      "metadata": {
        "id": "6A5VEjlvlmBo"
      },
      "outputs": [],
      "source": [
        "import pandas as pd\n",
        "import numpy as np\n",
        "from sklearn import svm\n",
        "from sklearn.model_selection import RandomizedSearchCV, GridSearchCV, train_test_split"
      ]
    },
    {
      "cell_type": "code",
      "execution_count": null,
      "metadata": {
        "id": "mPmNQCCEloHk"
      },
      "outputs": [],
      "source": [
        "xtrain=pd.read_table('UCI HAR Dataset/train/X_train.txt',delim_whitespace=True,header=None)\n",
        "xtest=pd.read_table('UCI HAR Dataset/test/X_test.txt',delim_whitespace=True,header=None)\n",
        "ytrain=pd.read_table('UCI HAR Dataset/train/y_train.txt',header=None)\n",
        "ytest=pd.read_table('UCI HAR Dataset/test/y_test.txt',header=None)"
      ]
    },
    {
      "cell_type": "code",
      "execution_count": null,
      "metadata": {
        "id": "n9DUrsEGl_RM"
      },
      "outputs": [],
      "source": [
        "classifier=svm.SVC()"
      ]
    },
    {
      "cell_type": "code",
      "execution_count": null,
      "metadata": {
        "id": "TK-s9mDnmDLZ"
      },
      "outputs": [],
      "source": [
        "parameters=[{'kernel': ['rbf'], 'gamma': [0.001, 0.0001], 'C': [1, 10, 100, 1000]}, {'kernel': ['linear'], 'C': [1, 10, 100, 1000]}]"
      ]
    },
    {
      "cell_type": "code",
      "execution_count": null,
      "metadata": {
        "colab": {
          "base_uri": "https://localhost:8080/"
        },
        "id": "AOqvBFdOmFH2",
        "outputId": "8ca54f21-db22-4a34-e52d-aebf3ff9bf85"
      },
      "outputs": [
        {
          "output_type": "stream",
          "name": "stdout",
          "text": [
            "Fitting 4 folds for each of 12 candidates, totalling 48 fits\n"
          ]
        },
        {
          "output_type": "execute_result",
          "data": {
            "text/plain": [
              "GridSearchCV(cv=4, estimator=SVC(), n_jobs=-1,\n",
              "             param_grid=[{'C': [1, 10, 100, 1000], 'gamma': [0.001, 0.0001],\n",
              "                          'kernel': ['rbf']},\n",
              "                         {'C': [1, 10, 100, 1000], 'kernel': ['linear']}],\n",
              "             verbose=4)"
            ]
          },
          "metadata": {},
          "execution_count": 8
        }
      ],
      "source": [
        "model=GridSearchCV(classifier,parameters,n_jobs=-1,cv=4,verbose=4)\n",
        "model.fit(xtrain.to_numpy(),ytrain.to_numpy().ravel().T)"
      ]
    },
    {
      "cell_type": "code",
      "execution_count": null,
      "metadata": {
        "id": "iVSUK_T2mHX3"
      },
      "outputs": [],
      "source": [
        "from sklearn.metrics import accuracy_score\n",
        "ypred=model.predict(xtest)\n",
        "accuracy=accuracy_score(ytest,ypred)"
      ]
    },
    {
      "cell_type": "code",
      "source": [
        "print('Best Parameters: '+ str(model.best_params_))\n",
        "print('Accuracy Score: '+ str(accuracy*100) + ' %')"
      ],
      "metadata": {
        "colab": {
          "base_uri": "https://localhost:8080/"
        },
        "id": "eHwOUHBnSxHB",
        "outputId": "7a5b9131-db6d-48dc-b30e-4216bc6fc5fd"
      },
      "execution_count": null,
      "outputs": [
        {
          "output_type": "stream",
          "name": "stdout",
          "text": [
            "Best Parameters: {'C': 1000, 'gamma': 0.001, 'kernel': 'rbf'}\n",
            "Accuracy Score: 96.57278588394978 %\n"
          ]
        }
      ]
    },
    {
      "cell_type": "code",
      "source": [],
      "metadata": {
        "id": "dRLnvup9SzEc"
      },
      "execution_count": null,
      "outputs": []
    }
  ],
  "metadata": {
    "accelerator": "GPU",
    "colab": {
      "provenance": [],
      "authorship_tag": "ABX9TyM5Pzcblh7eBGyye3Mw2kC9",
      "include_colab_link": true
    },
    "kernelspec": {
      "display_name": "Python 3",
      "name": "python3"
    },
    "language_info": {
      "name": "python"
    }
  },
  "nbformat": 4,
  "nbformat_minor": 0
}